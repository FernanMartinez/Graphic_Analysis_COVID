{
 "cells": [
  {
   "cell_type": "code",
   "execution_count": null,
   "metadata": {},
   "outputs": [],
   "source": [
    "%matplotlib notebook\n",
    "import numpy as numpy\n",
    "import pandas as pd\n",
    "import seaborn as sns\n",
    "import matplotlib.pyplot as plt\n",
    "import matplotlib.dates as mdates"
   ]
  },
  {
   "cell_type": "code",
   "execution_count": null,
   "metadata": {},
   "outputs": [],
   "source": [
    "DEATH_BY_COV = 'https://raw.githubusercontent.com/CSSEGISandData/COVID-19/master/csse_covid_19_data/csse_covid_19_time_series/time_series_covid19_deaths_global.csv'\n",
    "CASES_COV = 'https://raw.githubusercontent.com/CSSEGISandData/COVID-19/master/csse_covid_19_data/csse_covid_19_time_series/time_series_covid19_confirmed_global.csv'"
   ]
  },
  {
   "cell_type": "code",
   "execution_count": null,
   "metadata": {},
   "outputs": [],
   "source": [
    "def data_preparation(url):\n",
    "    \"\"\"\n",
    "    Function to prepare the data to be analyzed.\n",
    "    \"\"\"\n",
    "    data_df = pd.read_csv(url)\n",
    "    colums_exclud = data_df.columns[[0, 2, 3]]\n",
    "    data_df.drop(colums_exclud,\n",
    "                 axis=1,\n",
    "                 inplace=True)\n",
    "    data_df = data_df.set_index(\"Country/Region\")\n",
    "    data_df = data_df.groupby(level=0).sum()\n",
    "    return data_df\n"
   ]
  },
  {
   "cell_type": "code",
   "execution_count": null,
   "metadata": {},
   "outputs": [],
   "source": [
    "def data_country(cases_table, death_table, country):\n",
    "    \"\"\"\n",
    "    Function to create a matrix with data of confirmed cases of COVID-19 and death by COVID-19.\n",
    "    The first column is data-times, the second column is confirmed cases of COVID-19, and the\n",
    "    third column is deaths by COVID-19.\n",
    "    PARAMETERS\n",
    "    ----------\n",
    "    data_table: DataFrame with cases\n",
    "    death_table: DataFrame with deaths\n",
    "    country: Country to analize\n",
    "    \"\"\"\n",
    "    data_cases = cases_table.loc[country]\n",
    "    data_death = death_table.loc[country]\n",
    "    data_array = np.c_[data_cases.index,\n",
    "                       data_cases.values,\n",
    "                       data_death.values]\n",
    "    return data_array"
   ]
  },
  {
   "cell_type": "code",
   "execution_count": null,
   "metadata": {},
   "outputs": [],
   "source": [
    "cases_df = data_preparation(url=CASES_COV)\n",
    "death_df = data_preparation(url=DEATH_BY_COV)"
   ]
  },
  {
   "cell_type": "code",
   "execution_count": null,
   "metadata": {},
   "outputs": [],
   "source": [
    "# def country_plot(country, subplot=True, save=False)\n",
    "# sns.set_style(\"dark\")\n",
    "country = \"Brazil\"\n",
    "\n",
    "\n",
    "labels = \"Cases Deaths\".split(\" \")\n",
    "colors = \"orange red\".split(\" \")\n",
    "linestyle = \"-. --\".split(\" \")\n",
    "linewidth = 0.8\n",
    "step_x = 20\n",
    "step_y = 15\n",
    "size = 12\n",
    "labely = \"Confirmed COVID-19 cases\"\n",
    "labely2 = \"Deaths reported by COVID-19\"\n",
    "\n",
    "\n",
    "data_df = data_country(cases_table=cases_df, death_table=death_df, country=country)\n",
    "date_time = np.array(list(map(lambda x: datetime.strptime(x, \"%m/%d/%y\"),\n",
    "                              data_df[:, 0])))\n",
    "cases = data_df[:, 1]\n",
    "deaths = data_df[:, 2]\n",
    "\n",
    "fig, ax = plt.subplots(figsize=(10, 6))\n",
    "ax_death = ax.twinx()\n",
    "\n",
    "ax.plot(date_time,\n",
    "        cases,\n",
    "        label=f\"COVID-19 cases\",\n",
    "        ls=linestyle[0],\n",
    "        linewidth=linewidth,\n",
    "        color=colors[0])\n",
    "ax.plot(np.nan,\n",
    "        label=f\"COVID-19 deaths\",\n",
    "        linewidth=linewidth,\n",
    "        ls=linestyle[1],\n",
    "        color=colors[1])\n",
    "\n",
    "ax_death.plot(date_time,\n",
    "              deaths,\n",
    "              label=f\"COVID-19 deaths\",\n",
    "              linewidth=linewidth,\n",
    "              ls=linestyle[1],\n",
    "              color=colors[1])\n",
    "\n",
    "data_ticks = date_time[np.arange(0,\n",
    "                                len(date_time),\n",
    "                                step_x)]\n",
    "ax.set_xticks(data_ticks)\n",
    "ax.xaxis.set_major_formatter(mdates.DateFormatter('%b\\n%d'))\n",
    "ax.xaxis.set_tick_params(rotation=0,\n",
    "                         labelsize=size-3)\n",
    "\n",
    "\n",
    "cases_tick = np.linspace(0,\n",
    "                         cases[-1],\n",
    "                         step_y,\n",
    "                         dtype=int)\n",
    "ax.set_yticks(cases_tick)\n",
    "ax.yaxis.set_tick_params(labelsize=size-3)\n",
    "ax.set_ylabel(labely,\n",
    "              size=size)\n",
    "\n",
    "death_tick = np.linspace(0,\n",
    "                         deaths[-1],\n",
    "                         step_y,\n",
    "                         dtype=int)\n",
    "ax_death.set_yticks(death_tick)\n",
    "ax_death.yaxis.set_tick_params(labelsize=size-3)\n",
    "ax_death.set_ylabel(labely2,\n",
    "                    size=size)\n",
    "ax.legend(loc=4,\n",
    "          fontsize=size-4,\n",
    "          frameon=False)\n"
   ]
  },
  {
   "cell_type": "code",
   "execution_count": null,
   "metadata": {},
   "outputs": [],
   "source": []
  },
  {
   "cell_type": "code",
   "execution_count": null,
   "metadata": {},
   "outputs": [],
   "source": []
  },
  {
   "cell_type": "code",
   "execution_count": null,
   "metadata": {},
   "outputs": [],
   "source": []
  },
  {
   "cell_type": "code",
   "execution_count": null,
   "metadata": {},
   "outputs": [],
   "source": []
  },
  {
   "cell_type": "code",
   "execution_count": null,
   "metadata": {},
   "outputs": [],
   "source": []
  },
  {
   "cell_type": "code",
   "execution_count": null,
   "metadata": {},
   "outputs": [],
   "source": []
  }
 ],
 "metadata": {
  "@webio": {
   "lastCommId": null,
   "lastKernelId": null
  },
  "kernelspec": {
   "display_name": "Python 3",
   "language": "python",
   "name": "python3"
  },
  "language_info": {
   "codemirror_mode": {
    "name": "ipython",
    "version": 3
   },
   "file_extension": ".py",
   "mimetype": "text/x-python",
   "name": "python",
   "nbconvert_exporter": "python",
   "pygments_lexer": "ipython3",
   "version": "3.7.6"
  },
  "varInspector": {
   "cols": {
    "lenName": 16,
    "lenType": 16,
    "lenVar": 40
   },
   "kernels_config": {
    "python": {
     "delete_cmd_postfix": "",
     "delete_cmd_prefix": "del ",
     "library": "var_list.py",
     "varRefreshCmd": "print(var_dic_list())"
    },
    "r": {
     "delete_cmd_postfix": ") ",
     "delete_cmd_prefix": "rm(",
     "library": "var_list.r",
     "varRefreshCmd": "cat(var_dic_list()) "
    }
   },
   "position": {
    "height": "609.85px",
    "left": "1571px",
    "right": "20px",
    "top": "86px",
    "width": "319px"
   },
   "types_to_exclude": [
    "module",
    "function",
    "builtin_function_or_method",
    "instance",
    "_Feature"
   ],
   "window_display": true
  }
 },
 "nbformat": 4,
 "nbformat_minor": 2
}
