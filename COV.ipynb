{
 "cells": [
  {
   "cell_type": "code",
   "execution_count": 7,
   "metadata": {},
   "outputs": [],
   "source": [
    "import numpy as numpy\n",
    "import pandas as pd\n",
    "import seaborn as sns"
   ]
  },
  {
   "cell_type": "code",
   "execution_count": 3,
   "metadata": {},
   "outputs": [],
   "source": [
    "DEATH_BY_COV = 'https://raw.githubusercontent.com/CSSEGISandData/COVID-19/master/csse_covid_19_data/csse_covid_19_time_series/time_series_covid19_confirmed_global.csv'\n",
    "CASES_COV = 'https://raw.githubusercontent.com/CSSEGISandData/COVID-19/master/csse_covid_19_data/csse_covid_19_time_series/time_series_covid19_deaths_global.csv'"
   ]
  },
  {
   "cell_type": "code",
   "execution_count": 5,
   "metadata": {},
   "outputs": [],
   "source": [
    "def data_preparation(url):\n",
    "    \"\"\"\n",
    "    Function to prepare the data to be analyzed.\n",
    "    \"\"\"\n",
    "    data_df = pd.read_csv(url)\n",
    "    colums_exclud = data_df.columns[[0, 2, 3]]\n",
    "    data_df.drop(colums_exclud,\n",
    "                 axis=1,\n",
    "                 inplace=True)\n",
    "    data_df = data_df.set_index(\"Country/Region\")\n",
    "    data_df = data_df.groupby(level=0).sum()\n",
    "    return data_df\n"
   ]
  },
  {
   "cell_type": "code",
   "execution_count": 15,
   "metadata": {},
   "outputs": [
    {
     "data": {
      "text/plain": [
       "<matplotlib.axes._subplots.AxesSubplot at 0x7f63e510a710>"
      ]
     },
     "execution_count": 15,
     "metadata": {},
     "output_type": "execute_result"
    },
    {
     "data": {
      "image/png": "[encoded data removed]",
      "text/plain": [
       "<Figure size 432x288 with 1 Axes>"
      ]
     },
     "metadata": {
      "needs_background": "light"
     },
     "output_type": "display_data"
    }
   ],
   "source": [
    "data = data_preparation(DEATH_BY_COV)\n",
    "data = data.loc[\"United Kingdom\"]\n",
    "\n",
    "sns.lineplot(data=data)"
   ]
  },
  {
   "cell_type": "code",
   "execution_count": 22,
   "metadata": {},
   "outputs": [
    {
     "name": "stdout",
     "output_type": "stream",
     "text": [
      "1/22/20         0\n",
      "1/23/20         0\n",
      "1/24/20         0\n",
      "1/25/20         0\n",
      "1/26/20         0\n",
      "1/27/20         0\n",
      "1/28/20         0\n",
      "1/29/20         0\n",
      "1/30/20         0\n",
      "1/31/20         2\n",
      "2/1/20          2\n",
      "2/2/20          2\n",
      "2/3/20          8\n",
      "2/4/20          8\n",
      "2/5/20          9\n",
      "2/6/20          9\n",
      "2/7/20          9\n",
      "2/8/20         13\n",
      "2/9/20         14\n",
      "2/10/20        14\n",
      "2/11/20        15\n",
      "2/12/20        16\n",
      "2/13/20        17\n",
      "2/14/20        18\n",
      "2/15/20        18\n",
      "2/16/20        18\n",
      "2/17/20        19\n",
      "2/18/20        19\n",
      "2/19/20        20\n",
      "2/20/20        22\n",
      "2/21/20        23\n",
      "2/22/20        23\n",
      "2/23/20        28\n",
      "2/24/20        30\n",
      "2/25/20        34\n",
      "2/26/20        37\n",
      "2/27/20        44\n",
      "2/28/20        56\n",
      "2/29/20        61\n",
      "3/1/20         94\n",
      "3/2/20        134\n",
      "3/3/20        189\n",
      "3/4/20        246\n",
      "3/5/20        295\n",
      "3/6/20        374\n",
      "3/7/20        429\n",
      "3/8/20        483\n",
      "3/9/20        630\n",
      "3/10/20       889\n",
      "3/11/20      1301\n",
      "3/12/20      1790\n",
      "3/13/20      2270\n",
      "3/14/20      2634\n",
      "3/15/20      3077\n",
      "3/16/20      3692\n",
      "3/17/20      4462\n",
      "3/18/20      5467\n",
      "3/19/20      6533\n",
      "3/20/20      7791\n",
      "3/21/20      9006\n",
      "3/22/20     10395\n",
      "3/23/20     12744\n",
      "3/24/20     15126\n",
      "3/25/20     17843\n",
      "3/26/20     20970\n",
      "3/27/20     24219\n",
      "3/28/20     27062\n",
      "3/29/20     29954\n",
      "3/30/20     34281\n",
      "3/31/20     38815\n",
      "4/1/20      43789\n",
      "4/2/20      48718\n",
      "4/3/20      53699\n",
      "4/4/20      57772\n",
      "4/5/20      61422\n",
      "4/6/20      66738\n",
      "4/7/20      72224\n",
      "4/8/20      77387\n",
      "4/9/20      82293\n",
      "4/10/20     86660\n",
      "4/11/20     90273\n",
      "4/12/20     93812\n",
      "4/13/20     98017\n",
      "4/14/20    102365\n",
      "4/15/20    107465\n",
      "4/16/20    112808\n",
      "4/17/20    117798\n",
      "4/18/20    122534\n",
      "4/19/20    126394\n",
      "4/20/20    131260\n",
      "4/21/20    136035\n",
      "4/22/20    141540\n",
      "4/23/20    146708\n",
      "4/24/20    151689\n",
      "4/25/20    155453\n",
      "4/26/20    158926\n",
      "4/27/20    163630\n",
      "4/28/20    168357\n",
      "4/29/20    173807\n",
      "4/30/20    178771\n",
      "5/1/20     183501\n",
      "5/2/20     186731\n",
      "5/3/20     189708\n",
      "5/4/20     193091\n",
      "5/5/20     196780\n",
      "5/6/20     200616\n",
      "5/7/20     204387\n",
      "5/8/20     207439\n",
      "5/9/20     209589\n",
      "5/10/20    211911\n",
      "5/11/20    215500\n",
      "5/12/20    218895\n",
      "5/13/20    222195\n",
      "5/14/20    224813\n",
      "5/15/20    227334\n",
      "5/16/20    229406\n",
      "5/17/20    231232\n",
      "5/18/20    233809\n",
      "5/19/20    236867\n",
      "5/20/20    239579\n",
      "5/21/20    242133\n",
      "5/22/20    244174\n",
      "5/23/20    245682\n",
      "5/24/20    247037\n",
      "5/25/20    248650\n",
      "5/26/20    250309\n",
      "5/27/20    252118\n",
      "5/28/20    253854\n",
      "5/29/20    255362\n",
      "5/30/20    256469\n",
      "5/31/20    257539\n",
      "6/1/20     258983\n",
      "6/2/20     260453\n",
      "6/3/20     261802\n",
      "6/4/20     263040\n",
      "6/5/20     264150\n",
      "6/6/20     264944\n",
      "6/7/20     265662\n",
      "6/8/20     266756\n",
      "6/9/20     267915\n",
      "6/10/20    269101\n",
      "6/11/20    270108\n",
      "6/12/20    271162\n",
      "6/13/20    272050\n",
      "6/14/20    272857\n",
      "6/15/20    273888\n",
      "6/16/20    274971\n",
      "6/17/20    275970\n",
      "6/18/20    276990\n",
      "6/19/20    277974\n",
      "6/20/20    278640\n",
      "6/21/20    279264\n",
      "6/22/20    280156\n",
      "6/23/20    281038\n",
      "6/24/20    281815\n",
      "6/25/20    282512\n",
      "6/26/20    283151\n",
      "6/27/20    283785\n",
      "6/28/20    284192\n",
      "6/29/20    284812\n",
      "6/30/20    285216\n",
      "7/1/20     285279\n",
      "7/2/20     285285\n",
      "7/3/20     285787\n",
      "7/4/20     286412\n",
      "7/5/20     286931\n",
      "7/6/20     287290\n",
      "7/7/20     287874\n",
      "7/8/20     288511\n",
      "7/9/20     289154\n",
      "7/10/20    289678\n",
      "7/11/20    290504\n",
      "7/12/20    291154\n",
      "7/13/20    291691\n",
      "7/14/20    292931\n",
      "7/15/20    293469\n",
      "7/16/20    294116\n",
      "7/17/20    294803\n",
      "7/18/20    295632\n",
      "7/19/20    296358\n",
      "7/20/20    296944\n",
      "7/21/20    297389\n",
      "7/22/20    297952\n",
      "7/23/20    298731\n",
      "7/24/20    299500\n",
      "Name: United Kingdom, dtype: int64\n"
     ]
    }
   ],
   "source": [
    "pd.set_option('display.max_rows', None)\n",
    "print(data)"
   ]
  }
 ],
 "metadata": {
  "@webio": {
   "lastCommId": null,
   "lastKernelId": null
  },
  "kernelspec": {
   "display_name": "Python 3",
   "language": "python",
   "name": "python3"
  },
  "language_info": {
   "codemirror_mode": {
    "name": "ipython",
    "version": 3
   },
   "file_extension": ".py",
   "mimetype": "text/x-python",
   "name": "python",
   "nbconvert_exporter": "python",
   "pygments_lexer": "ipython3",
   "version": "3.7.6"
  },
  "varInspector": {
   "cols": {
    "lenName": 16,
    "lenType": 16,
    "lenVar": 40
   },
   "kernels_config": {
    "python": {
     "delete_cmd_postfix": "",
     "delete_cmd_prefix": "del ",
     "library": "var_list.py",
     "varRefreshCmd": "print(var_dic_list())"
    },
    "r": {
     "delete_cmd_postfix": ") ",
     "delete_cmd_prefix": "rm(",
     "library": "var_list.r",
     "varRefreshCmd": "cat(var_dic_list()) "
    }
   },
   "position": {
    "height": "609.85px",
    "left": "1571px",
    "right": "20px",
    "top": "86px",
    "width": "319px"
   },
   "types_to_exclude": [
    "module",
    "function",
    "builtin_function_or_method",
    "instance",
    "_Feature"
   ],
   "window_display": true
  }
 },
 "nbformat": 4,
 "nbformat_minor": 2
}
